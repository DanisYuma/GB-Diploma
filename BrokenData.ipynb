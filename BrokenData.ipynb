{
 "cells": [
  {
   "cell_type": "code",
   "execution_count": 6,
   "id": "605c28ac",
   "metadata": {},
   "outputs": [],
   "source": [
    "import pandas as pd\n",
    "from datetime import datetime, timedelta\n",
    "import random"
   ]
  },
  {
   "cell_type": "code",
   "execution_count": 7,
   "id": "f43b19a5",
   "metadata": {},
   "outputs": [],
   "source": [
    "# Загрузка данных из CSV файла\n",
    "df = pd.read_csv('sales_inventory_orders_data.csv')\n",
    "\n",
    "# Создание пропущенных данных\n",
    "missing_data = df.sample(frac=0.2).copy()  # Замените 0.2 на желаемую долю данных, которую вы хотите сделать пропущенной\n",
    "missing_data['Sales'] = None  # Обнуляем продажи в пропущенных данных\n",
    "df = pd.concat([df, missing_data], ignore_index=True)\n"
   ]
  },
  {
   "cell_type": "code",
   "execution_count": 8,
   "id": "58c42fc9",
   "metadata": {},
   "outputs": [],
   "source": [
    "random_dates_df = pd.read_csv('sales_inventory_orders_data.csv')\n",
    "\n",
    "# Выбираем случайные строки из исходного датафрейма\n",
    "random_dates_df = df.sample(n=50)  # Замените 10 на желаемое количество случайных строк"
   ]
  },
  {
   "cell_type": "code",
   "execution_count": 9,
   "id": "2f731082",
   "metadata": {},
   "outputs": [],
   "source": [
    "# Сортировка DataFrame по дате\n",
    "df.sort_values(by='Date', inplace=True)"
   ]
  },
  {
   "cell_type": "code",
   "execution_count": 10,
   "id": "8515a9f9",
   "metadata": {},
   "outputs": [],
   "source": [
    "# Объединяем датафреймы\n",
    "broken_df = pd.concat([df, random_dates_df], ignore_index=True)\n",
    "\n",
    "# Сохраняем объединенный датафрейм в CSV файл\n",
    "broken_df.to_csv('broken_sales.csv', index=False)"
   ]
  },
  {
   "cell_type": "code",
   "execution_count": null,
   "id": "f0e16e0a",
   "metadata": {},
   "outputs": [],
   "source": []
  }
 ],
 "metadata": {
  "kernelspec": {
   "display_name": "Python 3 (ipykernel)",
   "language": "python",
   "name": "python3"
  },
  "language_info": {
   "codemirror_mode": {
    "name": "ipython",
    "version": 3
   },
   "file_extension": ".py",
   "mimetype": "text/x-python",
   "name": "python",
   "nbconvert_exporter": "python",
   "pygments_lexer": "ipython3",
   "version": "3.9.13"
  }
 },
 "nbformat": 4,
 "nbformat_minor": 5
}
