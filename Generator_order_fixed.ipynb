{
 "cells": [
  {
   "cell_type": "code",
   "execution_count": 1,
   "metadata": {},
   "outputs": [],
   "source": [
    "import random\n",
    "import pandas as pd\n",
    "from datetime import datetime, timedelta"
   ]
  },
  {
   "cell_type": "code",
   "execution_count": null,
   "metadata": {},
   "outputs": [],
   "source": []
  },
  {
   "cell_type": "code",
   "execution_count": 13,
   "metadata": {},
   "outputs": [],
   "source": [
    "# Создаем список товаров\n",
    "num_products = 9\n",
    "products = [f'Product_{i}' for i in range(1, num_products + 1)]\n",
    "\n",
    "# Задаем диапазон дат\n",
    "start_date = datetime(2023, 1, 1)\n",
    "end_date = datetime(2023, 12, 31)\n",
    "\n",
    "# Инициализируем начальный уровень инвентаря и параметры заказов для каждого товара\n",
    "initial_inventory = {product: random.randint(100, 200) for product in products}\n",
    "order_parameters = {product: random.randint(8, 15) * 10 for product in products}\n",
    "\n",
    "# Добавляем переменные для времени доставки, цены доставки, цены хранения и цены продажи\n",
    "delivery_times = {product: random.randint(2, 5) for product in products}  # Пример времени доставки в днях\n",
    "storage_prices = {product: round(random.uniform(0.1, 1.0), 2) for product in products}  # Пример цены хранения\n",
    "delivery_prices = {product: round(random.uniform(2, 10), 2) for product in products}  # Пример цены доставки\n",
    "sale_prices = {product: int(random.uniform(20, 99)) for product in products}  # Пример цены продажи"
   ]
  },
  {
   "cell_type": "code",
   "execution_count": 9,
   "metadata": {},
   "outputs": [],
   "source": [
    "# Добавляем переменные для сезонных факторов\n",
    "season_factors = {1: 1.0, 2: 1.1, 3: 1.1, 4: 1.2, 5: 1.2, 6: 1.3, 7: 1.4, 8: 1.4, 9: 1.5, 10: 1.6, 11: 1.6, 12: 1.7}"
   ]
  },
  {
   "cell_type": "code",
   "execution_count": 16,
   "metadata": {
    "id": "uRd3tZtVk62b",
    "scrolled": true
   },
   "outputs": [],
   "source": [
    "# Генерируем данные о продажах, инвентаре, заказах, ценах продаж и сезонных факторах\n",
    "data = []\n",
    "for product in products:\n",
    "    current_date = start_date\n",
    "    inventory = initial_inventory[product]\n",
    "    order_placed = False  # Флаг, указывающий, был ли уже размещён заказ\n",
    "    delivery_date = None  # Инициализация переменной delivery_date\n",
    "    unrealized_demand = 0 # Инициализируем unrealized_demand перед циклом\n",
    "    \n",
    "    # Используем фиксированные значения для storage_price и sale_price\n",
    "    storage_price = storage_prices[product]\n",
    "    sale_price = sale_prices[product]\n",
    "    \n",
    "    while current_date <= end_date:\n",
    "        month = current_date.month\n",
    "        seasonal_factor = season_factors[month]\n",
    "        sales = round(random.randint(15, 20) * seasonal_factor) # случайное количество продаж\n",
    "        \n",
    "        if current_date.weekday() in [5, 6]:\n",
    "            # Если текущий день выходной (5 - суббота, 6 - воскресенье),\n",
    "            # увеличиваем количество продаж в выходные\n",
    "            sales += random.randint(2, 5)\n",
    "            \n",
    "        if delivery_date == current_date:\n",
    "            # Увеличиваем инвентарь в день прихода:\n",
    "            inventory += order_quantity\n",
    "            order_placed = False  # Сбрасываем флаг размещения заказа после увеличения инвентаря в день доставки\n",
    "            \n",
    "        inventory -= sales\n",
    "        if inventory < 0:\n",
    "            unrealized_demand = abs(inventory)\n",
    "            sales = sales - unrealized_demand\n",
    "            inventory = 0\n",
    "        \n",
    "            \n",
    "        if inventory < order_parameters[product] and not order_placed:\n",
    "            # Если инвентарь меньше порога, делаем заказ\n",
    "            order_quantity = random.randint(6, 20) * 10\n",
    "            order = order_quantity\n",
    "            delivery_time = delivery_times[product]\n",
    "            delivery_price = delivery_prices[product]\n",
    "            storage_price = storage_prices[product]\n",
    "            sale_price = sale_prices[product]\n",
    "                                \n",
    "            # Рассчитываем дату доставки\n",
    "            delivery_date = current_date + timedelta(days=delivery_time)\n",
    "            order_placed = True\n",
    "                        \n",
    "        else:\n",
    "            order = 0\n",
    "            delivery_time = 0\n",
    "            delivery_price = 0\n",
    "                             \n",
    "        data.append([current_date, product, sales, order, inventory, unrealized_demand, delivery_time, delivery_price, storage_price, sale_price])\n",
    "        current_date += timedelta(days=1)"
   ]
  },
  {
   "cell_type": "code",
   "execution_count": 18,
   "metadata": {},
   "outputs": [],
   "source": [
    "# Создаем DataFrame для данных о продажах, инвентаре, заказах, дополнительных параметрах, сезонных факторах и дате заполнения инвентаря\n",
    "columns = ['Date', 'Product', 'Sales', 'Orders', 'Inventory', 'UnrealizedDemand',\n",
    "           'DeliveryTime', 'DeliveryPrice', 'StoragePrice', 'SalePrice']\n",
    "sales_inventory_orders_data = pd.DataFrame(data, columns=columns)\n",
    "\n",
    "# Сохраняем данные в CSV файл\n",
    "sales_inventory_orders_data.to_csv('sales_inventory_orders_data.csv', index=False)"
   ]
  },
  {
   "cell_type": "code",
   "execution_count": null,
   "metadata": {},
   "outputs": [],
   "source": []
  }
 ],
 "metadata": {
  "colab": {
   "authorship_tag": "ABX9TyNdXmnyBmmJzwPMYYDYOIxw",
   "provenance": []
  },
  "kernelspec": {
   "display_name": "Python 3 (ipykernel)",
   "language": "python",
   "name": "python3"
  },
  "language_info": {
   "codemirror_mode": {
    "name": "ipython",
    "version": 3
   },
   "file_extension": ".py",
   "mimetype": "text/x-python",
   "name": "python",
   "nbconvert_exporter": "python",
   "pygments_lexer": "ipython3",
   "version": "3.9.13"
  }
 },
 "nbformat": 4,
 "nbformat_minor": 1
}
