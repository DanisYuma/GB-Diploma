{
 "cells": [
  {
   "cell_type": "code",
   "execution_count": null,
   "metadata": {
    "executionInfo": {
     "elapsed": 731,
     "status": "ok",
     "timestamp": 1699505236057,
     "user": {
      "displayName": "Данис Юмакаев",
      "userId": "16038283785137073787"
     },
     "user_tz": -300
    },
    "id": "H6NwzfnHZW6u"
   },
   "outputs": [],
   "source": [
    "import random\n",
    "import pandas as pd\n",
    "from datetime import datetime, timedelta\n",
    "\n",
    "# Создаем список товаров\n",
    "num_products = 9\n",
    "products = [f'Product_{i}' for i in range(1, num_products + 1)]\n",
    "\n",
    "# Задаем диапазон дат\n",
    "start_date = datetime(2023, 1, 1)\n",
    "end_date = datetime(2023, 12, 31)\n",
    "\n",
    "# Инициализируем начальный уровень инвентаря и параметры заказов для каждого товара\n",
    "initial_inventory = {product: random.randint(100, 150) for product in products}\n",
    "order_parameters = {product: random.randint(6, 10) * 10 for product in products}\n",
    "\n",
    "# Добавляем переменные для времени доставки, цены доставки и цены хранения\n",
    "delivery_times = {product: random.randint(1, 7) for product in products}  # Пример времени доставки в днях\n",
    "delivery_prices = {product: random.uniform(5, 20) for product in products}  # Пример цены доставки\n",
    "storage_prices = {product: random.uniform(0.1, 1.0) for product in products}  # Пример цены хранения\n",
    "\n",
    "# Генерируем данные о продажах, инвентаре и заказах\n",
    "data = []\n",
    "for product in products:\n",
    "    current_date = start_date\n",
    "    inventory = initial_inventory[product]\n",
    "    while current_date <= end_date:\n",
    "        sales = random.randint(5, 20)  # случайное количество продаж\n",
    "        if current_date.weekday() in [5, 6]:\n",
    "            # Если текущий день выходной (5 - суббота, 6 - воскресенье),\n",
    "            # увеличиваем количество продаж в выходные\n",
    "            sales += random.randint(5, 10)\n",
    "        inventory -= sales\n",
    "        if inventory < order_parameters[product]:\n",
    "            # Если инвентарь меньше порога, делаем заказ\n",
    "            order_quantity = random.randint(3, 5) * 10\n",
    "            delivery_time = delivery_times[product]\n",
    "            delivery_price = delivery_prices[product]\n",
    "            storage_price = storage_prices[product]\n",
    "            \n",
    "            # Рассчитываем дату доставки\n",
    "            delivery_date = current_date + timedelta(days=delivery_time)\n",
    "            \n",
    "            inventory += order_quantity\n",
    "        else:\n",
    "            order_quantity = 0\n",
    "            delivery_time = 0\n",
    "            delivery_price = 0\n",
    "            storage_price = 0\n",
    "            delivery_date = None\n",
    "        \n",
    "        data.append([current_date, product, sales, order_quantity, inventory, delivery_date, delivery_time, delivery_price, storage_price])\n",
    "        current_date += timedelta(days=1)\n",
    "\n",
    "# Создаем DataFrame для данных о продажах, инвентаре, заказах и дополнительных параметрах\n",
    "columns = ['Date', 'Product', 'Sales', 'Orders', 'Inventory', 'DeliveryDate', 'DeliveryTime', 'DeliveryPrice', 'StoragePrice']\n",
    "sales_inventory_orders_data = pd.DataFrame(data, columns=columns)\n",
    "\n",
    "# Сохраняем данные в CSV файл\n",
    "sales_inventory_orders_data.to_csv('sales_inventory_orders_data.csv', index=False)\n"
   ]
  },
  {
   "cell_type": "code",
   "execution_count": null,
   "metadata": {
    "id": "uRd3tZtVk62b"
   },
   "outputs": [],
   "source": []
  }
 ],
 "metadata": {
  "colab": {
   "authorship_tag": "ABX9TyNdXmnyBmmJzwPMYYDYOIxw",
   "provenance": []
  },
  "kernelspec": {
   "display_name": "Python 3 (ipykernel)",
   "language": "python",
   "name": "python3"
  },
  "language_info": {
   "codemirror_mode": {
    "name": "ipython",
    "version": 3
   },
   "file_extension": ".py",
   "mimetype": "text/x-python",
   "name": "python",
   "nbconvert_exporter": "python",
   "pygments_lexer": "ipython3",
   "version": "3.9.13"
  }
 },
 "nbformat": 4,
 "nbformat_minor": 1
}
