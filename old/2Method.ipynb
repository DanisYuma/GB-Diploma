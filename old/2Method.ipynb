{
 "cells": [
  {
   "cell_type": "code",
   "execution_count": 23,
   "id": "8f23e033",
   "metadata": {},
   "outputs": [],
   "source": [
    "import pandas as pd\n",
    "\n",
    "# Загрузите данные о продажах, инвентаре и заказах из CSV-файла (предполагается, что данные сохранены в файле)\n",
    "data = pd.read_csv('sales_inventory_orders_data.csv')"
   ]
  },
  {
   "cell_type": "code",
   "execution_count": 24,
   "id": "8f1d1c9c",
   "metadata": {},
   "outputs": [],
   "source": [
    "# Группируем данные по продукту\n",
    "grouped_data = data.groupby('Product')"
   ]
  },
  {
   "cell_type": "code",
   "execution_count": 25,
   "id": "14a89f51",
   "metadata": {},
   "outputs": [
    {
     "name": "stdout",
     "output_type": "stream",
     "text": [
      "Оборачиваемость запасов:\n",
      "     Product          0\n",
      "0  Product_1  52.086635\n",
      "1  Product_2  58.599289\n",
      "2  Product_3  57.982343\n",
      "3  Product_4  44.040051\n",
      "4  Product_5  65.508070\n",
      "5  Product_6  56.639249\n",
      "6  Product_7  64.886144\n",
      "7  Product_8  30.848130\n",
      "8  Product_9  65.002886\n"
     ]
    }
   ],
   "source": [
    "# 1. Оборачиваемость запасов для каждого продукта\n",
    "inventory_turnover = (grouped_data['Sales'].sum() / grouped_data['Inventory'].mean()).reset_index()\n",
    "print('Оборачиваемость запасов:')\n",
    "print(inventory_turnover)"
   ]
  },
  {
   "cell_type": "code",
   "execution_count": 26,
   "id": "4bd02e41",
   "metadata": {
    "scrolled": true
   },
   "outputs": [
    {
     "name": "stdout",
     "output_type": "stream",
     "text": [
      "Уровень сервиса:\n",
      "     Product    0\n",
      "0  Product_1  1.0\n",
      "1  Product_2  1.0\n",
      "2  Product_3  1.0\n",
      "3  Product_4  1.0\n",
      "4  Product_5  1.0\n",
      "5  Product_6  1.0\n",
      "6  Product_7  1.0\n",
      "7  Product_8  1.0\n",
      "8  Product_9  1.0\n"
     ]
    }
   ],
   "source": [
    "# 2. Уровень сервиса для каждого продукта\n",
    "successful_orders = grouped_data.apply(lambda group: group[group['Sales'] > 0]['Orders'].sum())\n",
    "total_orders = grouped_data['Orders'].sum()\n",
    "service_level = (successful_orders / total_orders).reset_index()\n",
    "print('Уровень сервиса:')\n",
    "print(service_level)"
   ]
  },
  {
   "cell_type": "code",
   "execution_count": null,
   "id": "22d4ff2c",
   "metadata": {},
   "outputs": [],
   "source": [
    "# Даннные сгенерированы так что отсутсвует дефицит"
   ]
  },
  {
   "cell_type": "code",
   "execution_count": 27,
   "id": "7d685776",
   "metadata": {},
   "outputs": [
    {
     "name": "stdout",
     "output_type": "stream",
     "text": [
      "Дни запасов:\n",
      "     Product          0\n",
      "0  Product_1   7.007556\n",
      "1  Product_2   6.228745\n",
      "2  Product_3   6.295020\n",
      "3  Product_4   8.287910\n",
      "4  Product_5   5.571833\n",
      "5  Product_6   6.444295\n",
      "6  Product_7   5.625238\n",
      "7  Product_8  11.832160\n",
      "8  Product_9   5.615135\n"
     ]
    }
   ],
   "source": [
    "# 3. Дни запасов для каждого продукта\n",
    "days_of_inventory = (grouped_data['Inventory'].mean() / grouped_data['Sales'].mean()).reset_index()\n",
    "print('Дни запасов:')\n",
    "print(days_of_inventory)"
   ]
  },
  {
   "cell_type": "code",
   "execution_count": 28,
   "id": "3fbafd24",
   "metadata": {},
   "outputs": [
    {
     "name": "stdout",
     "output_type": "stream",
     "text": [
      "Затраты на хранение:\n",
      "     Product  Inventory\n",
      "0  Product_1  25.409589\n",
      "1  Product_2  22.530137\n",
      "2  Product_3  22.769863\n",
      "3  Product_4  29.910274\n",
      "4  Product_5  20.241781\n",
      "5  Product_6  22.899315\n",
      "6  Product_7  20.243151\n",
      "7  Product_8  42.587671\n",
      "8  Product_9  20.176027\n"
     ]
    }
   ],
   "source": [
    "# 4. Затраты на хранение (может потребоваться дополнительная информация о затратах) для каждого продукта\n",
    "cost_per_unit = 0.25  # Пример стоимости хранения одной единицы товара\n",
    "storage_cost = (grouped_data['Inventory'].mean() * cost_per_unit).reset_index()\n",
    "\n",
    "print('Затраты на хранение:')\n",
    "print(storage_cost)"
   ]
  },
  {
   "cell_type": "code",
   "execution_count": 29,
   "id": "e81664e9",
   "metadata": {},
   "outputs": [
    {
     "name": "stdout",
     "output_type": "stream",
     "text": [
      "Объем заказов:\n",
      "     Product  Orders\n",
      "0  Product_1    5190\n",
      "1  Product_2    5200\n",
      "2  Product_3    5270\n",
      "3  Product_4    5220\n",
      "4  Product_5    5200\n",
      "5  Product_6    5070\n",
      "6  Product_7    5190\n",
      "7  Product_8    5260\n",
      "8  Product_9    5190\n"
     ]
    }
   ],
   "source": [
    "# 5. Объем заказов для каждого продукта\n",
    "order_volume = grouped_data['Orders'].sum().reset_index()\n",
    "print('Объем заказов:')\n",
    "print(order_volume)"
   ]
  },
  {
   "cell_type": "code",
   "execution_count": 30,
   "id": "3b6bbc91",
   "metadata": {},
   "outputs": [
    {
     "name": "stdout",
     "output_type": "stream",
     "text": [
      "Точка заказа (ROP):\n",
      "     Product  ROP\n",
      "0  Product_1  121\n",
      "1  Product_2  121\n",
      "2  Product_3  121\n",
      "3  Product_4  121\n",
      "4  Product_5  121\n",
      "5  Product_6  119\n",
      "6  Product_7  120\n",
      "7  Product_8  120\n",
      "8  Product_9  120\n"
     ]
    }
   ],
   "source": [
    "# 6. Точка заказа (ROP) для каждого продукта\n",
    "average_daily_sales = grouped_data['Sales'].mean()\n",
    "delivery_time = 7  # Пример времени доставки (недель)\n",
    "safety_stock = 20  # Пример безопасного запаса\n",
    "rop = (average_daily_sales * delivery_time) + safety_stock\n",
    "rop = rop.reset_index()\n",
    "rop['ROP'] = rop['Sales'].astype(int)  # Преобразование в целые числа\n",
    "rop = rop.drop(columns='Sales')  # Удаление столбца 'Sales'\n",
    "print('Точка заказа (ROP):')\n",
    "print(rop)"
   ]
  },
  {
   "cell_type": "code",
   "execution_count": null,
   "id": "2184c196",
   "metadata": {},
   "outputs": [],
   "source": []
  }
 ],
 "metadata": {
  "kernelspec": {
   "display_name": "Python 3 (ipykernel)",
   "language": "python",
   "name": "python3"
  },
  "language_info": {
   "codemirror_mode": {
    "name": "ipython",
    "version": 3
   },
   "file_extension": ".py",
   "mimetype": "text/x-python",
   "name": "python",
   "nbconvert_exporter": "python",
   "pygments_lexer": "ipython3",
   "version": "3.9.13"
  }
 },
 "nbformat": 4,
 "nbformat_minor": 5
}
