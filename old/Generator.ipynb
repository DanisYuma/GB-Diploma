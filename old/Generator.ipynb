{
 "cells": [
  {
   "cell_type": "code",
   "execution_count": 1,
   "metadata": {
    "executionInfo": {
     "elapsed": 731,
     "status": "ok",
     "timestamp": 1699505236057,
     "user": {
      "displayName": "Данис Юмакаев",
      "userId": "16038283785137073787"
     },
     "user_tz": -300
    },
    "id": "H6NwzfnHZW6u"
   },
   "outputs": [],
   "source": [
    "import random\n",
    "import pandas as pd\n",
    "from datetime import datetime, timedelta\n"
   ]
  },
  {
   "cell_type": "code",
   "execution_count": 6,
   "metadata": {
    "executionInfo": {
     "elapsed": 7,
     "status": "ok",
     "timestamp": 1699505239898,
     "user": {
      "displayName": "Данис Юмакаев",
      "userId": "16038283785137073787"
     },
     "user_tz": -300
    },
    "id": "Uq5QDCQRZoBy"
   },
   "outputs": [],
   "source": [
    "# Создаем список товаров\n",
    "num_products = 9\n",
    "products = [f'Product_{i}' for i in range(1, num_products + 1)]"
   ]
  },
  {
   "cell_type": "code",
   "execution_count": 7,
   "metadata": {
    "executionInfo": {
     "elapsed": 9,
     "status": "ok",
     "timestamp": 1699505242939,
     "user": {
      "displayName": "Данис Юмакаев",
      "userId": "16038283785137073787"
     },
     "user_tz": -300
    },
    "id": "nOU33wHvZuuU"
   },
   "outputs": [],
   "source": [
    "# Задаем диапазон дат\n",
    "start_date = datetime(2023, 1, 1)\n",
    "end_date = datetime(2023, 12, 31)"
   ]
  },
  {
   "cell_type": "code",
   "execution_count": 12,
   "metadata": {
    "executionInfo": {
     "elapsed": 331,
     "status": "ok",
     "timestamp": 1699507291757,
     "user": {
      "displayName": "Данис Юмакаев",
      "userId": "16038283785137073787"
     },
     "user_tz": -300
    },
    "id": "pP-Ci3LsZ1FB"
   },
   "outputs": [],
   "source": [
    "# Инициализируем начальный уровень инвентаря и параметры заказов для каждого товара\n",
    "initial_inventory = {product: random.randint(100, 200) for product in products}\n",
    "order_parameters = {product: random.randint(6, 15) * 10 for product in products}"
   ]
  },
  {
   "cell_type": "code",
   "execution_count": 13,
   "metadata": {
    "executionInfo": {
     "elapsed": 507,
     "status": "ok",
     "timestamp": 1699508168812,
     "user": {
      "displayName": "Данис Юмакаев",
      "userId": "16038283785137073787"
     },
     "user_tz": -300
    },
    "id": "kWsfPGy-g2Nw",
    "scrolled": true
   },
   "outputs": [],
   "source": [
    "# Генерируем данные о продажах, инвентаре и заказах\n",
    "data = []\n",
    "for product in products:\n",
    "    current_date = start_date\n",
    "    inventory = initial_inventory[product]\n",
    "    while current_date <= end_date:\n",
    "        sales = random.randint(5, 20)  # случайное количество продаж\n",
    "        if current_date.weekday() in [5, 6]:\n",
    "            # Если текущий день выходной (5 - суббота, 6 - воскресенье),\n",
    "            # увеличиваем количество продаж в выходные\n",
    "            sales += random.randint(5, 10)\n",
    "        inventory -= sales\n",
    "        if inventory < order_parameters[product]:\n",
    "            # Если инвентарь меньше порога, делаем заказ\n",
    "            order_quantity = random.randint(3, 5) *10\n",
    "            inventory += order_quantity\n",
    "        else:\n",
    "            order_quantity = 0\n",
    "        \n",
    "        data.append([current_date, product, sales, order_quantity, inventory])\n",
    "        current_date += timedelta(days=1)\n",
    "\n",
    "# Создаем DataFrame для данных о продажах, инвентаре и заказах\n",
    "sales_inventory_orders_data = pd.DataFrame(data, columns=['Date', 'Product', 'Sales', 'Orders', 'Inventory'])\n",
    "\n",
    "# Сохраняем данные в CSV файл\n",
    "sales_inventory_orders_data.to_csv('sales_inventory_orders_data.csv', index=False)"
   ]
  },
  {
   "cell_type": "code",
   "execution_count": null,
   "metadata": {
    "id": "uRd3tZtVk62b"
   },
   "outputs": [],
   "source": []
  }
 ],
 "metadata": {
  "colab": {
   "authorship_tag": "ABX9TyNdXmnyBmmJzwPMYYDYOIxw",
   "provenance": []
  },
  "kernelspec": {
   "display_name": "Python 3 (ipykernel)",
   "language": "python",
   "name": "python3"
  },
  "language_info": {
   "codemirror_mode": {
    "name": "ipython",
    "version": 3
   },
   "file_extension": ".py",
   "mimetype": "text/x-python",
   "name": "python",
   "nbconvert_exporter": "python",
   "pygments_lexer": "ipython3",
   "version": "3.9.13"
  }
 },
 "nbformat": 4,
 "nbformat_minor": 1
}
